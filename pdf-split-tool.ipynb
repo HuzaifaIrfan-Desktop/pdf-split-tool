{
 "cells": [
  {
   "cell_type": "code",
   "execution_count": 1,
   "id": "7942aaef",
   "metadata": {},
   "outputs": [],
   "source": [
    "from PyPDF2 import PdfReader, PdfWriter\n",
    "import os\n",
    "from pathlib import Path"
   ]
  },
  {
   "cell_type": "code",
   "execution_count": 2,
   "id": "e47188ea",
   "metadata": {},
   "outputs": [],
   "source": [
    "\n",
    "def split_pdf_by_size(input_pdf, max_size_mb, output_filename_prefix=\"part_\", output_dir=\"output\"):\n",
    "    reader = PdfReader(input_pdf)\n",
    "    total_pages = len(reader.pages)\n",
    "    max_size_bytes = max_size_mb * 1024 * 1024\n",
    "\n",
    "    os.makedirs(output_dir, exist_ok=True)\n",
    "\n",
    "    start_page = 0\n",
    "    part = 1\n",
    "\n",
    "    while start_page < total_pages:\n",
    "        writer = PdfWriter()\n",
    "        current_size = 0\n",
    "        end_page = start_page\n",
    "\n",
    "        # Try adding pages until size exceeds\n",
    "        while end_page < total_pages:\n",
    "            writer.add_page(reader.pages[end_page])\n",
    "\n",
    "            # Estimate file size in memory\n",
    "            from io import BytesIO\n",
    "            temp_stream = BytesIO()\n",
    "            writer.write(temp_stream)\n",
    "            current_size = temp_stream.tell()\n",
    "\n",
    "            if current_size > max_size_bytes:\n",
    "                # Remove last page that caused overflow\n",
    "                writer = PdfWriter()\n",
    "                for i in range(start_page, end_page):  # exclude end_page\n",
    "                    writer.add_page(reader.pages[i])\n",
    "                break\n",
    "\n",
    "            end_page += 1\n",
    "\n",
    "        # Write current part to disk\n",
    "        part_path = os.path.join(output_dir, f\"{output_filename_prefix}{part}.pdf\")\n",
    "        with open(part_path, \"wb\") as f:\n",
    "            writer.write(f)\n",
    "\n",
    "        actual_size_mb = os.path.getsize(part_path) / (1024 * 1024)\n",
    "        print(f\"    Created: ({actual_size_mb:.2f} MB, pages {start_page+1} to {end_page - 1 + 1}) {part_path}\")\n",
    "\n",
    "        start_page = end_page\n",
    "        part += 1\n",
    "\n",
    "        "
   ]
  },
  {
   "cell_type": "code",
   "execution_count": 3,
   "id": "6f6d59a3",
   "metadata": {},
   "outputs": [
    {
     "name": "stderr",
     "output_type": "stream",
     "text": [
      "<>:1: SyntaxWarning: invalid escape sequence '\\A'\n",
      "<>:1: SyntaxWarning: invalid escape sequence '\\A'\n",
      "C:\\Users\\admi\\AppData\\Local\\Temp\\ipykernel_14348\\416343276.py:1: SyntaxWarning: invalid escape sequence '\\A'\n",
      "  filepath=\"input\\Arabic for Young Learners - Pupil Book 1.pdf\"\n"
     ]
    },
    {
     "name": "stdout",
     "output_type": "stream",
     "text": [
      "Splitting PDF: input\\Arabic for Young Learners - Pupil Book 1.pdf\n",
      "    Created: (4.89 MB, pages 1 to 16) output/Arabic for Young Learners - Pupil Book 1\\Arabic for Young Learners - Pupil Book 1_1.pdf\n",
      "    Created: (4.85 MB, pages 17 to 34) output/Arabic for Young Learners - Pupil Book 1\\Arabic for Young Learners - Pupil Book 1_2.pdf\n",
      "    Created: (4.86 MB, pages 35 to 57) output/Arabic for Young Learners - Pupil Book 1\\Arabic for Young Learners - Pupil Book 1_3.pdf\n",
      "    Created: (4.97 MB, pages 58 to 81) output/Arabic for Young Learners - Pupil Book 1\\Arabic for Young Learners - Pupil Book 1_4.pdf\n",
      "    Created: (4.99 MB, pages 82 to 105) output/Arabic for Young Learners - Pupil Book 1\\Arabic for Young Learners - Pupil Book 1_5.pdf\n",
      "    Created: (4.75 MB, pages 106 to 126) output/Arabic for Young Learners - Pupil Book 1\\Arabic for Young Learners - Pupil Book 1_6.pdf\n",
      "    Created: (4.90 MB, pages 127 to 149) output/Arabic for Young Learners - Pupil Book 1\\Arabic for Young Learners - Pupil Book 1_7.pdf\n",
      "    Created: (4.83 MB, pages 150 to 171) output/Arabic for Young Learners - Pupil Book 1\\Arabic for Young Learners - Pupil Book 1_8.pdf\n",
      "    Created: (4.96 MB, pages 172 to 194) output/Arabic for Young Learners - Pupil Book 1\\Arabic for Young Learners - Pupil Book 1_9.pdf\n",
      "    Created: (4.81 MB, pages 195 to 216) output/Arabic for Young Learners - Pupil Book 1\\Arabic for Young Learners - Pupil Book 1_10.pdf\n",
      "    Created: (2.93 MB, pages 217 to 231) output/Arabic for Young Learners - Pupil Book 1\\Arabic for Young Learners - Pupil Book 1_11.pdf\n",
      "PDF split into chunks in output/Arabic for Young Learners - Pupil Book 1\n"
     ]
    }
   ],
   "source": [
    "filepath=\"input\\Arabic for Young Learners - Pupil Book 1.pdf\"\n",
    "file_size_limit_mb = 5  # Set the size limit for each split part in MB\n",
    "\n",
    "path = Path(filepath)\n",
    "filename = path.name # e.g., \"file.pdf\"\n",
    "extension = path.suffix  # e.g., \".pdf\"\n",
    "filename_without_extension = path.stem  # e.g., \"file\"\n",
    "\n",
    "print(f\"Splitting PDF: {filepath}\")\n",
    "\n",
    "output_dir=f\"output/{filename_without_extension}\"\n",
    "output_filename_prefix = filename_without_extension + \"_\"\n",
    "# Example usage:\n",
    "split_pdf_by_size(filepath, file_size_limit_mb, output_filename_prefix , output_dir)  # Split into ~5MB chunks\n",
    "print(f\"PDF split into chunks in {output_dir}\")"
   ]
  }
 ],
 "metadata": {
  "kernelspec": {
   "display_name": "pdf-split-tool",
   "language": "python",
   "name": "python3"
  },
  "language_info": {
   "codemirror_mode": {
    "name": "ipython",
    "version": 3
   },
   "file_extension": ".py",
   "mimetype": "text/x-python",
   "name": "python",
   "nbconvert_exporter": "python",
   "pygments_lexer": "ipython3",
   "version": "3.13.5"
  }
 },
 "nbformat": 4,
 "nbformat_minor": 5
}
