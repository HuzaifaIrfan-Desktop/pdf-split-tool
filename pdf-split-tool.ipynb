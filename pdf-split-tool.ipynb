{
 "cells": [
  {
   "cell_type": "code",
   "execution_count": 1,
   "id": "7942aaef",
   "metadata": {},
   "outputs": [],
   "source": [
    "from PyPDF2 import PdfReader, PdfWriter\n",
    "import os\n"
   ]
  },
  {
   "cell_type": "code",
   "execution_count": 7,
   "id": "e47188ea",
   "metadata": {},
   "outputs": [],
   "source": [
    "def split_pdf_by_size(input_pdf, max_size_mb):\n",
    "    reader = PdfReader(input_pdf)\n",
    "    total_pages = len(reader.pages)\n",
    "    max_size_bytes = max_size_mb * 1024 * 1024\n",
    "\n",
    "    output_dir = \"output\"\n",
    "    os.makedirs(output_dir, exist_ok=True)\n",
    "\n",
    "    start_page = 0\n",
    "    part = 1\n",
    "\n",
    "    while start_page < total_pages:\n",
    "        writer = PdfWriter()\n",
    "        current_size = 0\n",
    "        end_page = start_page\n",
    "\n",
    "        # Try adding pages until size exceeds\n",
    "        while end_page < total_pages:\n",
    "            writer.add_page(reader.pages[end_page])\n",
    "\n",
    "            # Estimate file size in memory\n",
    "            from io import BytesIO\n",
    "            temp_stream = BytesIO()\n",
    "            writer.write(temp_stream)\n",
    "            current_size = temp_stream.tell()\n",
    "\n",
    "            if current_size > max_size_bytes:\n",
    "                # Remove last page that caused overflow\n",
    "                writer = PdfWriter()\n",
    "                for i in range(start_page, end_page):  # exclude end_page\n",
    "                    writer.add_page(reader.pages[i])\n",
    "                break\n",
    "\n",
    "            end_page += 1\n",
    "\n",
    "        # Write current part to disk\n",
    "        part_path = os.path.join(output_dir, f\"part_{part}.pdf\")\n",
    "        with open(part_path, \"wb\") as f:\n",
    "            writer.write(f)\n",
    "\n",
    "        actual_size_mb = os.path.getsize(part_path) / (1024 * 1024)\n",
    "        print(f\"Created: {part_path} ({actual_size_mb:.2f} MB, pages {start_page} to {end_page - 1})\")\n",
    "\n",
    "        start_page = end_page\n",
    "        part += 1\n",
    "\n",
    "        "
   ]
  },
  {
   "cell_type": "code",
   "execution_count": 8,
   "id": "6f6d59a3",
   "metadata": {},
   "outputs": [
    {
     "name": "stdout",
     "output_type": "stream",
     "text": [
      "Created: output\\part_1.pdf (4.89 MB, pages 0 to 15)\n",
      "Created: output\\part_2.pdf (4.85 MB, pages 16 to 33)\n",
      "Created: output\\part_3.pdf (4.86 MB, pages 34 to 56)\n",
      "Created: output\\part_4.pdf (4.97 MB, pages 57 to 80)\n",
      "Created: output\\part_5.pdf (4.99 MB, pages 81 to 104)\n",
      "Created: output\\part_6.pdf (4.75 MB, pages 105 to 125)\n",
      "Created: output\\part_7.pdf (4.90 MB, pages 126 to 148)\n",
      "Created: output\\part_8.pdf (4.83 MB, pages 149 to 170)\n",
      "Created: output\\part_9.pdf (4.96 MB, pages 171 to 193)\n",
      "Created: output\\part_10.pdf (4.81 MB, pages 194 to 215)\n",
      "Created: output\\part_11.pdf (2.93 MB, pages 216 to 230)\n"
     ]
    }
   ],
   "source": [
    "filename=\"input\\العربية للناشئين - كتاب التلميذ ١ - Arabic for Young Learners - Pupil Book 1.pdf\"\n",
    "# Example usage:\n",
    "split_pdf_by_size(filename, 5)  # Split into ~5MB chunks"
   ]
  }
 ],
 "metadata": {
  "kernelspec": {
   "display_name": "pdf-split-tool",
   "language": "python",
   "name": "python3"
  },
  "language_info": {
   "codemirror_mode": {
    "name": "ipython",
    "version": 3
   },
   "file_extension": ".py",
   "mimetype": "text/x-python",
   "name": "python",
   "nbconvert_exporter": "python",
   "pygments_lexer": "ipython3",
   "version": "3.13.5"
  }
 },
 "nbformat": 4,
 "nbformat_minor": 5
}
